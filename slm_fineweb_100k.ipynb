{
  "nbformat": 4,
  "nbformat_minor": 0,
  "metadata": {
    "colab": {
      "provenance": [],
      "gpuType": "L4"
    },
    "kernelspec": {
      "name": "python3",
      "display_name": "Python 3"
    },
    "language_info": {
      "name": "python"
    },
    "accelerator": "GPU",
    "widgets": {
      "application/vnd.jupyter.widget-state+json": {
        "a402f87913ff4b44899f2069d6cd2202": {
          "model_module": "@jupyter-widgets/controls",
          "model_name": "HBoxModel",
          "model_module_version": "1.5.0",
          "state": {
            "_dom_classes": [],
            "_model_module": "@jupyter-widgets/controls",
            "_model_module_version": "1.5.0",
            "_model_name": "HBoxModel",
            "_view_count": null,
            "_view_module": "@jupyter-widgets/controls",
            "_view_module_version": "1.5.0",
            "_view_name": "HBoxView",
            "box_style": "",
            "children": [
              "IPY_MODEL_627ea235cc4f4ccf984942edf504f0fa",
              "IPY_MODEL_d99d17c09535479bbb57c022a557b852",
              "IPY_MODEL_ecebfcb6d7eb4165b5d0f7bb82968450"
            ],
            "layout": "IPY_MODEL_8df65a61fc164f298ad66268820dc3bd"
          }
        },
        "627ea235cc4f4ccf984942edf504f0fa": {
          "model_module": "@jupyter-widgets/controls",
          "model_name": "HTMLModel",
          "model_module_version": "1.5.0",
          "state": {
            "_dom_classes": [],
            "_model_module": "@jupyter-widgets/controls",
            "_model_module_version": "1.5.0",
            "_model_name": "HTMLModel",
            "_view_count": null,
            "_view_module": "@jupyter-widgets/controls",
            "_view_module_version": "1.5.0",
            "_view_name": "HTMLView",
            "description": "",
            "description_tooltip": null,
            "layout": "IPY_MODEL_7f3ddb2b489347f1a5fc3d77b41ed02a",
            "placeholder": "​",
            "style": "IPY_MODEL_30d60958c2194989b18bdc16568e31f9",
            "value": "Resolving data files: 100%"
          }
        },
        "d99d17c09535479bbb57c022a557b852": {
          "model_module": "@jupyter-widgets/controls",
          "model_name": "FloatProgressModel",
          "model_module_version": "1.5.0",
          "state": {
            "_dom_classes": [],
            "_model_module": "@jupyter-widgets/controls",
            "_model_module_version": "1.5.0",
            "_model_name": "FloatProgressModel",
            "_view_count": null,
            "_view_module": "@jupyter-widgets/controls",
            "_view_module_version": "1.5.0",
            "_view_name": "ProgressView",
            "bar_style": "success",
            "description": "",
            "description_tooltip": null,
            "layout": "IPY_MODEL_15f18a4797ef4032bca8b4c6f4c25071",
            "max": 27468,
            "min": 0,
            "orientation": "horizontal",
            "style": "IPY_MODEL_64fec399a13e4f80a73b10f7a2bdaf7f",
            "value": 27468
          }
        },
        "ecebfcb6d7eb4165b5d0f7bb82968450": {
          "model_module": "@jupyter-widgets/controls",
          "model_name": "HTMLModel",
          "model_module_version": "1.5.0",
          "state": {
            "_dom_classes": [],
            "_model_module": "@jupyter-widgets/controls",
            "_model_module_version": "1.5.0",
            "_model_name": "HTMLModel",
            "_view_count": null,
            "_view_module": "@jupyter-widgets/controls",
            "_view_module_version": "1.5.0",
            "_view_name": "HTMLView",
            "description": "",
            "description_tooltip": null,
            "layout": "IPY_MODEL_5a54fa78935240efb18025a3085de280",
            "placeholder": "​",
            "style": "IPY_MODEL_f62668cadb6445748d676b938fbdcb87",
            "value": " 27468/27468 [00:00&lt;00:00, 382595.74it/s]"
          }
        },
        "8df65a61fc164f298ad66268820dc3bd": {
          "model_module": "@jupyter-widgets/base",
          "model_name": "LayoutModel",
          "model_module_version": "1.2.0",
          "state": {
            "_model_module": "@jupyter-widgets/base",
            "_model_module_version": "1.2.0",
            "_model_name": "LayoutModel",
            "_view_count": null,
            "_view_module": "@jupyter-widgets/base",
            "_view_module_version": "1.2.0",
            "_view_name": "LayoutView",
            "align_content": null,
            "align_items": null,
            "align_self": null,
            "border": null,
            "bottom": null,
            "display": null,
            "flex": null,
            "flex_flow": null,
            "grid_area": null,
            "grid_auto_columns": null,
            "grid_auto_flow": null,
            "grid_auto_rows": null,
            "grid_column": null,
            "grid_gap": null,
            "grid_row": null,
            "grid_template_areas": null,
            "grid_template_columns": null,
            "grid_template_rows": null,
            "height": null,
            "justify_content": null,
            "justify_items": null,
            "left": null,
            "margin": null,
            "max_height": null,
            "max_width": null,
            "min_height": null,
            "min_width": null,
            "object_fit": null,
            "object_position": null,
            "order": null,
            "overflow": null,
            "overflow_x": null,
            "overflow_y": null,
            "padding": null,
            "right": null,
            "top": null,
            "visibility": null,
            "width": null
          }
        },
        "7f3ddb2b489347f1a5fc3d77b41ed02a": {
          "model_module": "@jupyter-widgets/base",
          "model_name": "LayoutModel",
          "model_module_version": "1.2.0",
          "state": {
            "_model_module": "@jupyter-widgets/base",
            "_model_module_version": "1.2.0",
            "_model_name": "LayoutModel",
            "_view_count": null,
            "_view_module": "@jupyter-widgets/base",
            "_view_module_version": "1.2.0",
            "_view_name": "LayoutView",
            "align_content": null,
            "align_items": null,
            "align_self": null,
            "border": null,
            "bottom": null,
            "display": null,
            "flex": null,
            "flex_flow": null,
            "grid_area": null,
            "grid_auto_columns": null,
            "grid_auto_flow": null,
            "grid_auto_rows": null,
            "grid_column": null,
            "grid_gap": null,
            "grid_row": null,
            "grid_template_areas": null,
            "grid_template_columns": null,
            "grid_template_rows": null,
            "height": null,
            "justify_content": null,
            "justify_items": null,
            "left": null,
            "margin": null,
            "max_height": null,
            "max_width": null,
            "min_height": null,
            "min_width": null,
            "object_fit": null,
            "object_position": null,
            "order": null,
            "overflow": null,
            "overflow_x": null,
            "overflow_y": null,
            "padding": null,
            "right": null,
            "top": null,
            "visibility": null,
            "width": null
          }
        },
        "30d60958c2194989b18bdc16568e31f9": {
          "model_module": "@jupyter-widgets/controls",
          "model_name": "DescriptionStyleModel",
          "model_module_version": "1.5.0",
          "state": {
            "_model_module": "@jupyter-widgets/controls",
            "_model_module_version": "1.5.0",
            "_model_name": "DescriptionStyleModel",
            "_view_count": null,
            "_view_module": "@jupyter-widgets/base",
            "_view_module_version": "1.2.0",
            "_view_name": "StyleView",
            "description_width": ""
          }
        },
        "15f18a4797ef4032bca8b4c6f4c25071": {
          "model_module": "@jupyter-widgets/base",
          "model_name": "LayoutModel",
          "model_module_version": "1.2.0",
          "state": {
            "_model_module": "@jupyter-widgets/base",
            "_model_module_version": "1.2.0",
            "_model_name": "LayoutModel",
            "_view_count": null,
            "_view_module": "@jupyter-widgets/base",
            "_view_module_version": "1.2.0",
            "_view_name": "LayoutView",
            "align_content": null,
            "align_items": null,
            "align_self": null,
            "border": null,
            "bottom": null,
            "display": null,
            "flex": null,
            "flex_flow": null,
            "grid_area": null,
            "grid_auto_columns": null,
            "grid_auto_flow": null,
            "grid_auto_rows": null,
            "grid_column": null,
            "grid_gap": null,
            "grid_row": null,
            "grid_template_areas": null,
            "grid_template_columns": null,
            "grid_template_rows": null,
            "height": null,
            "justify_content": null,
            "justify_items": null,
            "left": null,
            "margin": null,
            "max_height": null,
            "max_width": null,
            "min_height": null,
            "min_width": null,
            "object_fit": null,
            "object_position": null,
            "order": null,
            "overflow": null,
            "overflow_x": null,
            "overflow_y": null,
            "padding": null,
            "right": null,
            "top": null,
            "visibility": null,
            "width": null
          }
        },
        "64fec399a13e4f80a73b10f7a2bdaf7f": {
          "model_module": "@jupyter-widgets/controls",
          "model_name": "ProgressStyleModel",
          "model_module_version": "1.5.0",
          "state": {
            "_model_module": "@jupyter-widgets/controls",
            "_model_module_version": "1.5.0",
            "_model_name": "ProgressStyleModel",
            "_view_count": null,
            "_view_module": "@jupyter-widgets/base",
            "_view_module_version": "1.2.0",
            "_view_name": "StyleView",
            "bar_color": null,
            "description_width": ""
          }
        },
        "5a54fa78935240efb18025a3085de280": {
          "model_module": "@jupyter-widgets/base",
          "model_name": "LayoutModel",
          "model_module_version": "1.2.0",
          "state": {
            "_model_module": "@jupyter-widgets/base",
            "_model_module_version": "1.2.0",
            "_model_name": "LayoutModel",
            "_view_count": null,
            "_view_module": "@jupyter-widgets/base",
            "_view_module_version": "1.2.0",
            "_view_name": "LayoutView",
            "align_content": null,
            "align_items": null,
            "align_self": null,
            "border": null,
            "bottom": null,
            "display": null,
            "flex": null,
            "flex_flow": null,
            "grid_area": null,
            "grid_auto_columns": null,
            "grid_auto_flow": null,
            "grid_auto_rows": null,
            "grid_column": null,
            "grid_gap": null,
            "grid_row": null,
            "grid_template_areas": null,
            "grid_template_columns": null,
            "grid_template_rows": null,
            "height": null,
            "justify_content": null,
            "justify_items": null,
            "left": null,
            "margin": null,
            "max_height": null,
            "max_width": null,
            "min_height": null,
            "min_width": null,
            "object_fit": null,
            "object_position": null,
            "order": null,
            "overflow": null,
            "overflow_x": null,
            "overflow_y": null,
            "padding": null,
            "right": null,
            "top": null,
            "visibility": null,
            "width": null
          }
        },
        "f62668cadb6445748d676b938fbdcb87": {
          "model_module": "@jupyter-widgets/controls",
          "model_name": "DescriptionStyleModel",
          "model_module_version": "1.5.0",
          "state": {
            "_model_module": "@jupyter-widgets/controls",
            "_model_module_version": "1.5.0",
            "_model_name": "DescriptionStyleModel",
            "_view_count": null,
            "_view_module": "@jupyter-widgets/base",
            "_view_module_version": "1.2.0",
            "_view_name": "StyleView",
            "description_width": ""
          }
        },
        "7f8d3437c7344a89b01650cee33bef5a": {
          "model_module": "@jupyter-widgets/controls",
          "model_name": "HBoxModel",
          "model_module_version": "1.5.0",
          "state": {
            "_dom_classes": [],
            "_model_module": "@jupyter-widgets/controls",
            "_model_module_version": "1.5.0",
            "_model_name": "HBoxModel",
            "_view_count": null,
            "_view_module": "@jupyter-widgets/controls",
            "_view_module_version": "1.5.0",
            "_view_name": "HBoxView",
            "box_style": "",
            "children": [
              "IPY_MODEL_e26840a9da8c4ffc92eeb282f2902d7f",
              "IPY_MODEL_06e0bb10a8504758a372424ab0282e81",
              "IPY_MODEL_70528bc784e0438a95b123a385bddf85"
            ],
            "layout": "IPY_MODEL_d5d963ab2cb040d3953cc6e15dd7b1b9"
          }
        },
        "e26840a9da8c4ffc92eeb282f2902d7f": {
          "model_module": "@jupyter-widgets/controls",
          "model_name": "HTMLModel",
          "model_module_version": "1.5.0",
          "state": {
            "_dom_classes": [],
            "_model_module": "@jupyter-widgets/controls",
            "_model_module_version": "1.5.0",
            "_model_name": "HTMLModel",
            "_view_count": null,
            "_view_module": "@jupyter-widgets/controls",
            "_view_module_version": "1.5.0",
            "_view_name": "HTMLView",
            "description": "",
            "description_tooltip": null,
            "layout": "IPY_MODEL_e460434d3f82498d9d66f4a6e6c4eaff",
            "placeholder": "​",
            "style": "IPY_MODEL_aa3c5d26f3f540b6b3293f63a0f9da60",
            "value": "Resolving data files: 100%"
          }
        },
        "06e0bb10a8504758a372424ab0282e81": {
          "model_module": "@jupyter-widgets/controls",
          "model_name": "FloatProgressModel",
          "model_module_version": "1.5.0",
          "state": {
            "_dom_classes": [],
            "_model_module": "@jupyter-widgets/controls",
            "_model_module_version": "1.5.0",
            "_model_name": "FloatProgressModel",
            "_view_count": null,
            "_view_module": "@jupyter-widgets/controls",
            "_view_module_version": "1.5.0",
            "_view_name": "ProgressView",
            "bar_style": "success",
            "description": "",
            "description_tooltip": null,
            "layout": "IPY_MODEL_feaf34b257fe4d518e87a23fc42e6472",
            "max": 27468,
            "min": 0,
            "orientation": "horizontal",
            "style": "IPY_MODEL_a68af8ce9ffa4853a759da3070c7ea35",
            "value": 27468
          }
        },
        "70528bc784e0438a95b123a385bddf85": {
          "model_module": "@jupyter-widgets/controls",
          "model_name": "HTMLModel",
          "model_module_version": "1.5.0",
          "state": {
            "_dom_classes": [],
            "_model_module": "@jupyter-widgets/controls",
            "_model_module_version": "1.5.0",
            "_model_name": "HTMLModel",
            "_view_count": null,
            "_view_module": "@jupyter-widgets/controls",
            "_view_module_version": "1.5.0",
            "_view_name": "HTMLView",
            "description": "",
            "description_tooltip": null,
            "layout": "IPY_MODEL_1603494cb7ef447aa1ec9be464856171",
            "placeholder": "​",
            "style": "IPY_MODEL_bfa84001ab1b46799074dbb78f673f17",
            "value": " 27468/27468 [00:00&lt;00:00, 383942.17it/s]"
          }
        },
        "d5d963ab2cb040d3953cc6e15dd7b1b9": {
          "model_module": "@jupyter-widgets/base",
          "model_name": "LayoutModel",
          "model_module_version": "1.2.0",
          "state": {
            "_model_module": "@jupyter-widgets/base",
            "_model_module_version": "1.2.0",
            "_model_name": "LayoutModel",
            "_view_count": null,
            "_view_module": "@jupyter-widgets/base",
            "_view_module_version": "1.2.0",
            "_view_name": "LayoutView",
            "align_content": null,
            "align_items": null,
            "align_self": null,
            "border": null,
            "bottom": null,
            "display": null,
            "flex": null,
            "flex_flow": null,
            "grid_area": null,
            "grid_auto_columns": null,
            "grid_auto_flow": null,
            "grid_auto_rows": null,
            "grid_column": null,
            "grid_gap": null,
            "grid_row": null,
            "grid_template_areas": null,
            "grid_template_columns": null,
            "grid_template_rows": null,
            "height": null,
            "justify_content": null,
            "justify_items": null,
            "left": null,
            "margin": null,
            "max_height": null,
            "max_width": null,
            "min_height": null,
            "min_width": null,
            "object_fit": null,
            "object_position": null,
            "order": null,
            "overflow": null,
            "overflow_x": null,
            "overflow_y": null,
            "padding": null,
            "right": null,
            "top": null,
            "visibility": null,
            "width": null
          }
        },
        "e460434d3f82498d9d66f4a6e6c4eaff": {
          "model_module": "@jupyter-widgets/base",
          "model_name": "LayoutModel",
          "model_module_version": "1.2.0",
          "state": {
            "_model_module": "@jupyter-widgets/base",
            "_model_module_version": "1.2.0",
            "_model_name": "LayoutModel",
            "_view_count": null,
            "_view_module": "@jupyter-widgets/base",
            "_view_module_version": "1.2.0",
            "_view_name": "LayoutView",
            "align_content": null,
            "align_items": null,
            "align_self": null,
            "border": null,
            "bottom": null,
            "display": null,
            "flex": null,
            "flex_flow": null,
            "grid_area": null,
            "grid_auto_columns": null,
            "grid_auto_flow": null,
            "grid_auto_rows": null,
            "grid_column": null,
            "grid_gap": null,
            "grid_row": null,
            "grid_template_areas": null,
            "grid_template_columns": null,
            "grid_template_rows": null,
            "height": null,
            "justify_content": null,
            "justify_items": null,
            "left": null,
            "margin": null,
            "max_height": null,
            "max_width": null,
            "min_height": null,
            "min_width": null,
            "object_fit": null,
            "object_position": null,
            "order": null,
            "overflow": null,
            "overflow_x": null,
            "overflow_y": null,
            "padding": null,
            "right": null,
            "top": null,
            "visibility": null,
            "width": null
          }
        },
        "aa3c5d26f3f540b6b3293f63a0f9da60": {
          "model_module": "@jupyter-widgets/controls",
          "model_name": "DescriptionStyleModel",
          "model_module_version": "1.5.0",
          "state": {
            "_model_module": "@jupyter-widgets/controls",
            "_model_module_version": "1.5.0",
            "_model_name": "DescriptionStyleModel",
            "_view_count": null,
            "_view_module": "@jupyter-widgets/base",
            "_view_module_version": "1.2.0",
            "_view_name": "StyleView",
            "description_width": ""
          }
        },
        "feaf34b257fe4d518e87a23fc42e6472": {
          "model_module": "@jupyter-widgets/base",
          "model_name": "LayoutModel",
          "model_module_version": "1.2.0",
          "state": {
            "_model_module": "@jupyter-widgets/base",
            "_model_module_version": "1.2.0",
            "_model_name": "LayoutModel",
            "_view_count": null,
            "_view_module": "@jupyter-widgets/base",
            "_view_module_version": "1.2.0",
            "_view_name": "LayoutView",
            "align_content": null,
            "align_items": null,
            "align_self": null,
            "border": null,
            "bottom": null,
            "display": null,
            "flex": null,
            "flex_flow": null,
            "grid_area": null,
            "grid_auto_columns": null,
            "grid_auto_flow": null,
            "grid_auto_rows": null,
            "grid_column": null,
            "grid_gap": null,
            "grid_row": null,
            "grid_template_areas": null,
            "grid_template_columns": null,
            "grid_template_rows": null,
            "height": null,
            "justify_content": null,
            "justify_items": null,
            "left": null,
            "margin": null,
            "max_height": null,
            "max_width": null,
            "min_height": null,
            "min_width": null,
            "object_fit": null,
            "object_position": null,
            "order": null,
            "overflow": null,
            "overflow_x": null,
            "overflow_y": null,
            "padding": null,
            "right": null,
            "top": null,
            "visibility": null,
            "width": null
          }
        },
        "a68af8ce9ffa4853a759da3070c7ea35": {
          "model_module": "@jupyter-widgets/controls",
          "model_name": "ProgressStyleModel",
          "model_module_version": "1.5.0",
          "state": {
            "_model_module": "@jupyter-widgets/controls",
            "_model_module_version": "1.5.0",
            "_model_name": "ProgressStyleModel",
            "_view_count": null,
            "_view_module": "@jupyter-widgets/base",
            "_view_module_version": "1.2.0",
            "_view_name": "StyleView",
            "bar_color": null,
            "description_width": ""
          }
        },
        "1603494cb7ef447aa1ec9be464856171": {
          "model_module": "@jupyter-widgets/base",
          "model_name": "LayoutModel",
          "model_module_version": "1.2.0",
          "state": {
            "_model_module": "@jupyter-widgets/base",
            "_model_module_version": "1.2.0",
            "_model_name": "LayoutModel",
            "_view_count": null,
            "_view_module": "@jupyter-widgets/base",
            "_view_module_version": "1.2.0",
            "_view_name": "LayoutView",
            "align_content": null,
            "align_items": null,
            "align_self": null,
            "border": null,
            "bottom": null,
            "display": null,
            "flex": null,
            "flex_flow": null,
            "grid_area": null,
            "grid_auto_columns": null,
            "grid_auto_flow": null,
            "grid_auto_rows": null,
            "grid_column": null,
            "grid_gap": null,
            "grid_row": null,
            "grid_template_areas": null,
            "grid_template_columns": null,
            "grid_template_rows": null,
            "height": null,
            "justify_content": null,
            "justify_items": null,
            "left": null,
            "margin": null,
            "max_height": null,
            "max_width": null,
            "min_height": null,
            "min_width": null,
            "object_fit": null,
            "object_position": null,
            "order": null,
            "overflow": null,
            "overflow_x": null,
            "overflow_y": null,
            "padding": null,
            "right": null,
            "top": null,
            "visibility": null,
            "width": null
          }
        },
        "bfa84001ab1b46799074dbb78f673f17": {
          "model_module": "@jupyter-widgets/controls",
          "model_name": "DescriptionStyleModel",
          "model_module_version": "1.5.0",
          "state": {
            "_model_module": "@jupyter-widgets/controls",
            "_model_module_version": "1.5.0",
            "_model_name": "DescriptionStyleModel",
            "_view_count": null,
            "_view_module": "@jupyter-widgets/base",
            "_view_module_version": "1.2.0",
            "_view_name": "StyleView",
            "description_width": ""
          }
        },
        "b4bb92f51931475c84027bd135d1ee74": {
          "model_module": "@jupyter-widgets/controls",
          "model_name": "HBoxModel",
          "model_module_version": "1.5.0",
          "state": {
            "_dom_classes": [],
            "_model_module": "@jupyter-widgets/controls",
            "_model_module_version": "1.5.0",
            "_model_name": "HBoxModel",
            "_view_count": null,
            "_view_module": "@jupyter-widgets/controls",
            "_view_module_version": "1.5.0",
            "_view_name": "HBoxView",
            "box_style": "",
            "children": [
              "IPY_MODEL_c98593347820489fb2ee0e09d23940d5",
              "IPY_MODEL_386744430d184c2c8be8ec9f523f4de9",
              "IPY_MODEL_f58d0708dc8d44c2967861886bdaf565"
            ],
            "layout": "IPY_MODEL_5be4b0c2635b498cb9680a1557566273"
          }
        },
        "c98593347820489fb2ee0e09d23940d5": {
          "model_module": "@jupyter-widgets/controls",
          "model_name": "HTMLModel",
          "model_module_version": "1.5.0",
          "state": {
            "_dom_classes": [],
            "_model_module": "@jupyter-widgets/controls",
            "_model_module_version": "1.5.0",
            "_model_name": "HTMLModel",
            "_view_count": null,
            "_view_module": "@jupyter-widgets/controls",
            "_view_module_version": "1.5.0",
            "_view_name": "HTMLView",
            "description": "",
            "description_tooltip": null,
            "layout": "IPY_MODEL_8ab946ba689a42c5935c275fa7eba71a",
            "placeholder": "​",
            "style": "IPY_MODEL_7782caf0b6e04ac2949eb5031b8d8ba3",
            "value": "Map: 100%"
          }
        },
        "386744430d184c2c8be8ec9f523f4de9": {
          "model_module": "@jupyter-widgets/controls",
          "model_name": "FloatProgressModel",
          "model_module_version": "1.5.0",
          "state": {
            "_dom_classes": [],
            "_model_module": "@jupyter-widgets/controls",
            "_model_module_version": "1.5.0",
            "_model_name": "FloatProgressModel",
            "_view_count": null,
            "_view_module": "@jupyter-widgets/controls",
            "_view_module_version": "1.5.0",
            "_view_name": "ProgressView",
            "bar_style": "success",
            "description": "",
            "description_tooltip": null,
            "layout": "IPY_MODEL_8348a013724247799b7f94b7050c5624",
            "max": 100000,
            "min": 0,
            "orientation": "horizontal",
            "style": "IPY_MODEL_12f328318f8248a8ac1e42e23e826cfd",
            "value": 100000
          }
        },
        "f58d0708dc8d44c2967861886bdaf565": {
          "model_module": "@jupyter-widgets/controls",
          "model_name": "HTMLModel",
          "model_module_version": "1.5.0",
          "state": {
            "_dom_classes": [],
            "_model_module": "@jupyter-widgets/controls",
            "_model_module_version": "1.5.0",
            "_model_name": "HTMLModel",
            "_view_count": null,
            "_view_module": "@jupyter-widgets/controls",
            "_view_module_version": "1.5.0",
            "_view_name": "HTMLView",
            "description": "",
            "description_tooltip": null,
            "layout": "IPY_MODEL_2ac410a35e424b6bb62ef4a864cd3472",
            "placeholder": "​",
            "style": "IPY_MODEL_f53b3e94b0604074b1e5e022ecf24cac",
            "value": " 100000/100000 [00:38&lt;00:00, 2761.99 examples/s]"
          }
        },
        "5be4b0c2635b498cb9680a1557566273": {
          "model_module": "@jupyter-widgets/base",
          "model_name": "LayoutModel",
          "model_module_version": "1.2.0",
          "state": {
            "_model_module": "@jupyter-widgets/base",
            "_model_module_version": "1.2.0",
            "_model_name": "LayoutModel",
            "_view_count": null,
            "_view_module": "@jupyter-widgets/base",
            "_view_module_version": "1.2.0",
            "_view_name": "LayoutView",
            "align_content": null,
            "align_items": null,
            "align_self": null,
            "border": null,
            "bottom": null,
            "display": null,
            "flex": null,
            "flex_flow": null,
            "grid_area": null,
            "grid_auto_columns": null,
            "grid_auto_flow": null,
            "grid_auto_rows": null,
            "grid_column": null,
            "grid_gap": null,
            "grid_row": null,
            "grid_template_areas": null,
            "grid_template_columns": null,
            "grid_template_rows": null,
            "height": null,
            "justify_content": null,
            "justify_items": null,
            "left": null,
            "margin": null,
            "max_height": null,
            "max_width": null,
            "min_height": null,
            "min_width": null,
            "object_fit": null,
            "object_position": null,
            "order": null,
            "overflow": null,
            "overflow_x": null,
            "overflow_y": null,
            "padding": null,
            "right": null,
            "top": null,
            "visibility": null,
            "width": null
          }
        },
        "8ab946ba689a42c5935c275fa7eba71a": {
          "model_module": "@jupyter-widgets/base",
          "model_name": "LayoutModel",
          "model_module_version": "1.2.0",
          "state": {
            "_model_module": "@jupyter-widgets/base",
            "_model_module_version": "1.2.0",
            "_model_name": "LayoutModel",
            "_view_count": null,
            "_view_module": "@jupyter-widgets/base",
            "_view_module_version": "1.2.0",
            "_view_name": "LayoutView",
            "align_content": null,
            "align_items": null,
            "align_self": null,
            "border": null,
            "bottom": null,
            "display": null,
            "flex": null,
            "flex_flow": null,
            "grid_area": null,
            "grid_auto_columns": null,
            "grid_auto_flow": null,
            "grid_auto_rows": null,
            "grid_column": null,
            "grid_gap": null,
            "grid_row": null,
            "grid_template_areas": null,
            "grid_template_columns": null,
            "grid_template_rows": null,
            "height": null,
            "justify_content": null,
            "justify_items": null,
            "left": null,
            "margin": null,
            "max_height": null,
            "max_width": null,
            "min_height": null,
            "min_width": null,
            "object_fit": null,
            "object_position": null,
            "order": null,
            "overflow": null,
            "overflow_x": null,
            "overflow_y": null,
            "padding": null,
            "right": null,
            "top": null,
            "visibility": null,
            "width": null
          }
        },
        "7782caf0b6e04ac2949eb5031b8d8ba3": {
          "model_module": "@jupyter-widgets/controls",
          "model_name": "DescriptionStyleModel",
          "model_module_version": "1.5.0",
          "state": {
            "_model_module": "@jupyter-widgets/controls",
            "_model_module_version": "1.5.0",
            "_model_name": "DescriptionStyleModel",
            "_view_count": null,
            "_view_module": "@jupyter-widgets/base",
            "_view_module_version": "1.2.0",
            "_view_name": "StyleView",
            "description_width": ""
          }
        },
        "8348a013724247799b7f94b7050c5624": {
          "model_module": "@jupyter-widgets/base",
          "model_name": "LayoutModel",
          "model_module_version": "1.2.0",
          "state": {
            "_model_module": "@jupyter-widgets/base",
            "_model_module_version": "1.2.0",
            "_model_name": "LayoutModel",
            "_view_count": null,
            "_view_module": "@jupyter-widgets/base",
            "_view_module_version": "1.2.0",
            "_view_name": "LayoutView",
            "align_content": null,
            "align_items": null,
            "align_self": null,
            "border": null,
            "bottom": null,
            "display": null,
            "flex": null,
            "flex_flow": null,
            "grid_area": null,
            "grid_auto_columns": null,
            "grid_auto_flow": null,
            "grid_auto_rows": null,
            "grid_column": null,
            "grid_gap": null,
            "grid_row": null,
            "grid_template_areas": null,
            "grid_template_columns": null,
            "grid_template_rows": null,
            "height": null,
            "justify_content": null,
            "justify_items": null,
            "left": null,
            "margin": null,
            "max_height": null,
            "max_width": null,
            "min_height": null,
            "min_width": null,
            "object_fit": null,
            "object_position": null,
            "order": null,
            "overflow": null,
            "overflow_x": null,
            "overflow_y": null,
            "padding": null,
            "right": null,
            "top": null,
            "visibility": null,
            "width": null
          }
        },
        "12f328318f8248a8ac1e42e23e826cfd": {
          "model_module": "@jupyter-widgets/controls",
          "model_name": "ProgressStyleModel",
          "model_module_version": "1.5.0",
          "state": {
            "_model_module": "@jupyter-widgets/controls",
            "_model_module_version": "1.5.0",
            "_model_name": "ProgressStyleModel",
            "_view_count": null,
            "_view_module": "@jupyter-widgets/base",
            "_view_module_version": "1.2.0",
            "_view_name": "StyleView",
            "bar_color": null,
            "description_width": ""
          }
        },
        "2ac410a35e424b6bb62ef4a864cd3472": {
          "model_module": "@jupyter-widgets/base",
          "model_name": "LayoutModel",
          "model_module_version": "1.2.0",
          "state": {
            "_model_module": "@jupyter-widgets/base",
            "_model_module_version": "1.2.0",
            "_model_name": "LayoutModel",
            "_view_count": null,
            "_view_module": "@jupyter-widgets/base",
            "_view_module_version": "1.2.0",
            "_view_name": "LayoutView",
            "align_content": null,
            "align_items": null,
            "align_self": null,
            "border": null,
            "bottom": null,
            "display": null,
            "flex": null,
            "flex_flow": null,
            "grid_area": null,
            "grid_auto_columns": null,
            "grid_auto_flow": null,
            "grid_auto_rows": null,
            "grid_column": null,
            "grid_gap": null,
            "grid_row": null,
            "grid_template_areas": null,
            "grid_template_columns": null,
            "grid_template_rows": null,
            "height": null,
            "justify_content": null,
            "justify_items": null,
            "left": null,
            "margin": null,
            "max_height": null,
            "max_width": null,
            "min_height": null,
            "min_width": null,
            "object_fit": null,
            "object_position": null,
            "order": null,
            "overflow": null,
            "overflow_x": null,
            "overflow_y": null,
            "padding": null,
            "right": null,
            "top": null,
            "visibility": null,
            "width": null
          }
        },
        "f53b3e94b0604074b1e5e022ecf24cac": {
          "model_module": "@jupyter-widgets/controls",
          "model_name": "DescriptionStyleModel",
          "model_module_version": "1.5.0",
          "state": {
            "_model_module": "@jupyter-widgets/controls",
            "_model_module_version": "1.5.0",
            "_model_name": "DescriptionStyleModel",
            "_view_count": null,
            "_view_module": "@jupyter-widgets/base",
            "_view_module_version": "1.2.0",
            "_view_name": "StyleView",
            "description_width": ""
          }
        }
      }
    }
  },
  "cells": [
    {
      "cell_type": "code",
      "execution_count": 1,
      "metadata": {
        "id": "e4BXiKX2gszc"
      },
      "outputs": [],
      "source": [
        "!pip install -q datasets nltk tqdm"
      ]
    },
    {
      "cell_type": "code",
      "source": [
        "from datasets import load_dataset\n",
        "\n",
        "# Use streaming=True to avoid full download\n",
        "dataset = load_dataset(\"HuggingFaceFW/fineweb\", split=\"train\", streaming=True)\n",
        "\n",
        "# Take only the first 100k samples into memory\n",
        "sample = []\n",
        "for i, row in enumerate(dataset):\n",
        "    if i >= 100_000:  # stop after 100k\n",
        "        break\n",
        "    sample.append(row[\"text\"])\n",
        "\n",
        "print(\"Pulled {len(sample)} samples safely without downloading entire dataset.\")\n"
      ],
      "metadata": {
        "colab": {
          "base_uri": "https://localhost:8080/",
          "height": 98,
          "referenced_widgets": [
            "a402f87913ff4b44899f2069d6cd2202",
            "627ea235cc4f4ccf984942edf504f0fa",
            "d99d17c09535479bbb57c022a557b852",
            "ecebfcb6d7eb4165b5d0f7bb82968450",
            "8df65a61fc164f298ad66268820dc3bd",
            "7f3ddb2b489347f1a5fc3d77b41ed02a",
            "30d60958c2194989b18bdc16568e31f9",
            "15f18a4797ef4032bca8b4c6f4c25071",
            "64fec399a13e4f80a73b10f7a2bdaf7f",
            "5a54fa78935240efb18025a3085de280",
            "f62668cadb6445748d676b938fbdcb87",
            "7f8d3437c7344a89b01650cee33bef5a",
            "e26840a9da8c4ffc92eeb282f2902d7f",
            "06e0bb10a8504758a372424ab0282e81",
            "70528bc784e0438a95b123a385bddf85",
            "d5d963ab2cb040d3953cc6e15dd7b1b9",
            "e460434d3f82498d9d66f4a6e6c4eaff",
            "aa3c5d26f3f540b6b3293f63a0f9da60",
            "feaf34b257fe4d518e87a23fc42e6472",
            "a68af8ce9ffa4853a759da3070c7ea35",
            "1603494cb7ef447aa1ec9be464856171",
            "bfa84001ab1b46799074dbb78f673f17"
          ]
        },
        "id": "ftYpXy-vjHQb",
        "outputId": "e37c7d7c-aa6f-4c5e-b943-b41a3658eab3"
      },
      "execution_count": 4,
      "outputs": [
        {
          "output_type": "display_data",
          "data": {
            "text/plain": [
              "Resolving data files:   0%|          | 0/27468 [00:00<?, ?it/s]"
            ],
            "application/vnd.jupyter.widget-view+json": {
              "version_major": 2,
              "version_minor": 0,
              "model_id": "a402f87913ff4b44899f2069d6cd2202"
            }
          },
          "metadata": {}
        },
        {
          "output_type": "display_data",
          "data": {
            "text/plain": [
              "Resolving data files:   0%|          | 0/27468 [00:00<?, ?it/s]"
            ],
            "application/vnd.jupyter.widget-view+json": {
              "version_major": 2,
              "version_minor": 0,
              "model_id": "7f8d3437c7344a89b01650cee33bef5a"
            }
          },
          "metadata": {}
        },
        {
          "output_type": "stream",
          "name": "stdout",
          "text": [
            "Pulled {len(sample)} samples safely without downloading entire dataset.\n"
          ]
        }
      ]
    },
    {
      "cell_type": "code",
      "source": [
        "import nltk, os, json\n",
        "from tqdm import tqdm\n",
        "from nltk.tokenize import word_tokenize\n",
        "nltk.download(\"punkt\")"
      ],
      "metadata": {
        "colab": {
          "base_uri": "https://localhost:8080/"
        },
        "id": "HWD5fx1Rjgud",
        "outputId": "c50efcb0-69f0-427a-d0ac-7805e89b9d92"
      },
      "execution_count": 5,
      "outputs": [
        {
          "output_type": "stream",
          "name": "stderr",
          "text": [
            "[nltk_data] Downloading package punkt to /root/nltk_data...\n",
            "[nltk_data]   Package punkt is already up-to-date!\n"
          ]
        },
        {
          "output_type": "execute_result",
          "data": {
            "text/plain": [
              "True"
            ]
          },
          "metadata": {},
          "execution_count": 5
        }
      ]
    },
    {
      "cell_type": "code",
      "source": [
        "# Clean text (remove extra spaces)\n",
        "cleaned = [\" \".join(t.split()) for t in sample if isinstance(t, str) and len(t.strip()) > 0]"
      ],
      "metadata": {
        "id": "SaPocXQxjnI-"
      },
      "execution_count": 6,
      "outputs": []
    },
    {
      "cell_type": "code",
      "source": [
        "import nltk\n",
        "nltk.download(\"punkt\")\n",
        "nltk.download(\"punkt_tab\")\n"
      ],
      "metadata": {
        "colab": {
          "base_uri": "https://localhost:8080/"
        },
        "id": "Nc3651V3j6TK",
        "outputId": "a5827d03-6e43-40a7-a030-5e2e5866226f"
      },
      "execution_count": 8,
      "outputs": [
        {
          "output_type": "stream",
          "name": "stderr",
          "text": [
            "[nltk_data] Downloading package punkt to /root/nltk_data...\n",
            "[nltk_data]   Package punkt is already up-to-date!\n",
            "[nltk_data] Downloading package punkt_tab to /root/nltk_data...\n",
            "[nltk_data]   Unzipping tokenizers/punkt_tab.zip.\n"
          ]
        },
        {
          "output_type": "execute_result",
          "data": {
            "text/plain": [
              "True"
            ]
          },
          "metadata": {},
          "execution_count": 8
        }
      ]
    },
    {
      "cell_type": "code",
      "source": [
        "# Quick word-count sanity check\n",
        "lengths = [len(word_tokenize(t)) for t in tqdm(cleaned, desc=\"Counting words\")]\n",
        "print(f\"Average words/document: {sum(lengths)/len(lengths):.2f}\")\n",
        "print(f\"Max words/document: {max(lengths)}\")"
      ],
      "metadata": {
        "colab": {
          "base_uri": "https://localhost:8080/"
        },
        "id": "OzRZSAC0jwUM",
        "outputId": "70df4bfc-3bb2-4841-8d1f-8f4d4c028c66"
      },
      "execution_count": 9,
      "outputs": [
        {
          "output_type": "stream",
          "name": "stderr",
          "text": [
            "Counting words: 100%|██████████| 100000/100000 [03:58<00:00, 418.65it/s]"
          ]
        },
        {
          "output_type": "stream",
          "name": "stdout",
          "text": [
            "Average words/document: 567.57\n",
            "Max words/document: 104698\n"
          ]
        },
        {
          "output_type": "stream",
          "name": "stderr",
          "text": [
            "\n"
          ]
        }
      ]
    },
    {
      "cell_type": "code",
      "source": [
        "from tokenizers import Tokenizer, models, trainers, pre_tokenizers, processors\n",
        "from tokenizers.normalizers import NFKC\n",
        "from tokenizers.pre_tokenizers import Whitespace\n",
        "from tokenizers.trainers import BpeTrainer\n",
        "from tokenizers.processors import TemplateProcessing\n",
        "from tokenizers import decoders\n",
        "from tqdm import tqdm\n",
        "import json, os\n",
        "\n",
        "# Load dataset\n",
        "# data_path = \"out\"  # path where fineweb_shard_*.jsonl files are stored\n",
        "# texts = []\n",
        "# for filename in os.listdir(data_path):\n",
        "#     if filename.endswith(\".jsonl\"):\n",
        "#         with open(os.path.join(data_path, filename), \"r\", encoding=\"utf-8\") as f:\n",
        "#             for line in f:\n",
        "#                 obj = json.loads(line)\n",
        "#                 texts.append(obj[\"text\"])\n",
        "\n",
        "# Use the 'sample' variable loaded in the previous cell\n",
        "texts = sample\n",
        "\n",
        "print(f\"Loaded {len(texts)} documents for tokenizer training.\")\n",
        "\n",
        "# Initialize tokenizer\n",
        "tokenizer = Tokenizer(models.BPE())\n",
        "tokenizer.normalizer = NFKC()\n",
        "tokenizer.pre_tokenizer = pre_tokenizers.Whitespace()\n",
        "\n",
        "# Trainer configuration\n",
        "trainer = BpeTrainer(\n",
        "    vocab_size=32000,\n",
        "    min_frequency=2,\n",
        "    special_tokens=[\"<pad>\", \"<unk>\", \"<s>\", \"</s>\", \"<mask>\"]\n",
        ")\n",
        "\n",
        "# Train tokenizer\n",
        "tokenizer.train_from_iterator(tqdm(texts, desc=\"Training tokenizer\"), trainer=trainer)\n",
        "print(\"Tokenizer training complete.\")\n",
        "\n",
        "# Add post-processing for BOS/EOS tokens\n",
        "tokenizer.post_processor = TemplateProcessing(\n",
        "    single=\"<s> $A </s>\",\n",
        "    pair=\"<s> $A </s> </s> $B </s>\",\n",
        "    special_tokens=[\n",
        "        (\"<s>\", tokenizer.token_to_id(\"<s>\")),\n",
        "        (\"</s>\", tokenizer.token_to_id(\"</s>\")),\n",
        "    ],\n",
        ")\n",
        "\n",
        "# Save tokenizer files\n",
        "os.makedirs(\"slm_tokenizer\", exist_ok=True)\n",
        "tokenizer.save(\"slm_tokenizer/tokenizer.json\")\n",
        "print(\"Tokenizer saved at ./slm_tokenizer/tokenizer.json\")\n",
        "\n",
        "# Quick validation\n",
        "encoded = tokenizer.encode(\"FineWeb dataset is awesome for training small LLMs!\")\n",
        "print(\"Sample tokens:\", encoded.tokens)\n",
        "print(\"Token IDs:\", encoded.ids)"
      ],
      "metadata": {
        "colab": {
          "base_uri": "https://localhost:8080/"
        },
        "id": "UURb6BP0lXTG",
        "outputId": "178e274e-318f-48ae-9ff3-e1b7cb9cf7a7"
      },
      "execution_count": 11,
      "outputs": [
        {
          "output_type": "stream",
          "name": "stdout",
          "text": [
            "Loaded 100000 documents for tokenizer training.\n"
          ]
        },
        {
          "output_type": "stream",
          "name": "stderr",
          "text": [
            "Training tokenizer: 100%|██████████| 100000/100000 [00:09<00:00, 11035.77it/s]\n"
          ]
        },
        {
          "output_type": "stream",
          "name": "stdout",
          "text": [
            "Tokenizer training complete.\n",
            "Tokenizer saved at ./slm_tokenizer/tokenizer.json\n",
            "Sample tokens: ['<s>', 'Fine', 'Web', 'datas', 'et', 'is', 'awesome', 'for', 'training', 'small', 'LL', 'Ms', '!', '</s>']\n",
            "Token IDs: [2, 12478, 4364, 27346, 2669, 2636, 7423, 2652, 4657, 3541, 7202, 7857, 5, 3]\n"
          ]
        }
      ]
    },
    {
      "cell_type": "code",
      "source": [
        "# TRAIN SMALL LANGUAGE MODEL\n",
        "\n",
        "from transformers import (\n",
        "    AutoTokenizer,\n",
        "    GPT2Config,\n",
        "    GPT2LMHeadModel,\n",
        "    Trainer,\n",
        "    TrainingArguments,\n",
        "    DataCollatorForLanguageModeling,\n",
        "    PreTrainedTokenizerFast # Import PreTrainedTokenizerFast\n",
        ")\n",
        "from datasets import Dataset\n",
        "import torch, json, os\n",
        "from tokenizers import Tokenizer # Import Tokenizer from tokenizers library\n",
        "\n",
        "# Load your trained tokenizer from the saved file\n",
        "tokenizer_file = \"slm_tokenizer/tokenizer.json\"\n",
        "if not os.path.exists(tokenizer_file):\n",
        "    raise FileNotFoundError(f\"Tokenizer file not found at {tokenizer_file}\")\n",
        "\n",
        "# Load the tokenizer using the tokenizers library\n",
        "custom_tokenizer = Tokenizer.from_file(tokenizer_file)\n",
        "\n",
        "# Wrap the custom tokenizer in a transformers compatible tokenizer\n",
        "tokenizer = PreTrainedTokenizerFast(\n",
        "    tokenizer_object=custom_tokenizer,\n",
        "    # Add special tokens if they are not automatically recognized\n",
        "    pad_token=\"<pad>\",\n",
        "    bos_token=\"<s>\",\n",
        "    eos_token=\"</s>\",\n",
        "    unk_token=\"<unk>\",\n",
        "    mask_token=\"<mask>\"\n",
        ")\n",
        "\n",
        "\n",
        "# Prepare dataset\n",
        "# Use the 'sample' variable loaded in the previous cell instead of reading from 'out' directory\n",
        "# data = []\n",
        "# for shard_file in os.listdir(\"out\"):\n",
        "#     if shard_file.endswith(\".jsonl\"):\n",
        "#         with open(os.path.join(\"out\", shard_file), \"r\", encoding=\"utf-8\") as f:\n",
        "#             for line in f:\n",
        "#                 data.append(json.loads(line)[\"text\"])\n",
        "# dataset = Dataset.from_dict({\"text\": data})\n",
        "\n",
        "# Use the cleaned data from the previous cell\n",
        "dataset = Dataset.from_dict({\"text\": cleaned})\n",
        "\n",
        "\n",
        "def tokenize_function(examples):\n",
        "    # Ensure that the text is a string before tokenizing\n",
        "    texts_to_tokenize = [text if isinstance(text, str) else \"\" for text in examples[\"text\"]]\n",
        "    return tokenizer(texts_to_tokenize, truncation=True, max_length=128)\n",
        "\n",
        "tokenized_dataset = dataset.map(tokenize_function, batched=True, remove_columns=[\"text\"])\n",
        "\n",
        "# Split train/validation\n",
        "split = tokenized_dataset.train_test_split(test_size=0.05)\n",
        "train_dataset = split[\"train\"]\n",
        "eval_dataset = split[\"test\"]\n",
        "\n",
        "# Define GPT-like model configuration\n",
        "config = GPT2Config(\n",
        "    vocab_size=len(tokenizer),\n",
        "    n_positions=128,\n",
        "    n_ctx=128,\n",
        "    n_embd=256,\n",
        "    n_layer=4,\n",
        "    n_head=4,\n",
        "    bos_token_id=tokenizer.convert_tokens_to_ids(\"<s>\"),\n",
        "    eos_token_id=tokenizer.convert_tokens_to_ids(\"</s>\"),\n",
        "    pad_token_id=tokenizer.convert_tokens_to_ids(\"<pad>\"),\n",
        ")\n",
        "\n",
        "model = GPT2LMHeadModel(config)\n",
        "\n",
        "# Data collator\n",
        "data_collator = DataCollatorForLanguageModeling(tokenizer=tokenizer, mlm=False)\n",
        "\n",
        "# Training setup\n",
        "training_args = TrainingArguments(\n",
        "    output_dir=\"slm_model\",\n",
        "    eval_strategy=\"epoch\", # Changed from evaluation_strategy\n",
        "    learning_rate=2e-4,\n",
        "    weight_decay=0.01,\n",
        "    per_device_train_batch_size=4,\n",
        "    per_device_eval_batch_size=4,\n",
        "    num_train_epochs=2,  # try 1-3 for now\n",
        "    save_total_limit=2,\n",
        "    logging_steps=50,\n",
        "    push_to_hub=False,\n",
        ")\n",
        "\n",
        "trainer = Trainer(\n",
        "    model=model,\n",
        "    args=training_args,\n",
        "    train_dataset=train_dataset,\n",
        "    eval_dataset=eval_dataset,\n",
        "    tokenizer=tokenizer, # Use the wrapped tokenizer\n",
        "    data_collator=data_collator,\n",
        ")\n",
        "\n",
        "trainer.train()\n",
        "\n",
        "print(\"Training complete. Model saved in ./slm_model/\")"
      ],
      "metadata": {
        "colab": {
          "base_uri": "https://localhost:8080/",
          "height": 222,
          "referenced_widgets": [
            "b4bb92f51931475c84027bd135d1ee74",
            "c98593347820489fb2ee0e09d23940d5",
            "386744430d184c2c8be8ec9f523f4de9",
            "f58d0708dc8d44c2967861886bdaf565",
            "5be4b0c2635b498cb9680a1557566273",
            "8ab946ba689a42c5935c275fa7eba71a",
            "7782caf0b6e04ac2949eb5031b8d8ba3",
            "8348a013724247799b7f94b7050c5624",
            "12f328318f8248a8ac1e42e23e826cfd",
            "2ac410a35e424b6bb62ef4a864cd3472",
            "f53b3e94b0604074b1e5e022ecf24cac"
          ]
        },
        "id": "HshesEMtl-qQ",
        "outputId": "2c31b5ce-4fa4-483f-a4d6-02b7511d1b56"
      },
      "execution_count": 15,
      "outputs": [
        {
          "output_type": "display_data",
          "data": {
            "text/plain": [
              "Map:   0%|          | 0/100000 [00:00<?, ? examples/s]"
            ],
            "application/vnd.jupyter.widget-view+json": {
              "version_major": 2,
              "version_minor": 0,
              "model_id": "b4bb92f51931475c84027bd135d1ee74"
            }
          },
          "metadata": {}
        },
        {
          "output_type": "stream",
          "name": "stderr",
          "text": [
            "/tmp/ipython-input-3930958684.py:94: FutureWarning: `tokenizer` is deprecated and will be removed in version 5.0.0 for `Trainer.__init__`. Use `processing_class` instead.\n",
            "  trainer = Trainer(\n"
          ]
        },
        {
          "output_type": "display_data",
          "data": {
            "text/plain": [
              "<IPython.core.display.HTML object>"
            ],
            "text/html": [
              "\n",
              "    <div>\n",
              "      \n",
              "      <progress value='47500' max='47500' style='width:300px; height:20px; vertical-align: middle;'></progress>\n",
              "      [47500/47500 16:08, Epoch 2/2]\n",
              "    </div>\n",
              "    <table border=\"1\" class=\"dataframe\">\n",
              "  <thead>\n",
              " <tr style=\"text-align: left;\">\n",
              "      <th>Epoch</th>\n",
              "      <th>Training Loss</th>\n",
              "      <th>Validation Loss</th>\n",
              "    </tr>\n",
              "  </thead>\n",
              "  <tbody>\n",
              "    <tr>\n",
              "      <td>1</td>\n",
              "      <td>5.640000</td>\n",
              "      <td>5.531940</td>\n",
              "    </tr>\n",
              "    <tr>\n",
              "      <td>2</td>\n",
              "      <td>5.329400</td>\n",
              "      <td>5.308854</td>\n",
              "    </tr>\n",
              "  </tbody>\n",
              "</table><p>"
            ]
          },
          "metadata": {}
        },
        {
          "output_type": "stream",
          "name": "stdout",
          "text": [
            "Training complete. Model saved in ./slm_model/\n"
          ]
        }
      ]
    },
    {
      "cell_type": "code",
      "source": [
        "from transformers import pipeline, AutoModelForCausalLM, PreTrainedTokenizerFast\n",
        "import os\n",
        "from tokenizers import Tokenizer\n",
        "\n",
        "# Define the path to the trained model checkpoint and tokenizer\n",
        "model_path = \"./slm_model/checkpoint-47500\" # Use the path to the latest checkpoint\n",
        "tokenizer_file = \"./slm_tokenizer/tokenizer.json\"\n",
        "\n",
        "# Load the tokenizer using the tokenizers library and wrap it\n",
        "if not os.path.exists(tokenizer_file):\n",
        "    raise FileNotFoundError(f\"Tokenizer file not found at {tokenizer_file}\")\n",
        "custom_tokenizer = Tokenizer.from_file(tokenizer_file)\n",
        "tokenizer = PreTrainedTokenizerFast(tokenizer_object=custom_tokenizer,\n",
        "                                     pad_token=\"<pad>\",\n",
        "                                     bos_token=\"<s>\",\n",
        "                                     eos_token=\"</s>\",\n",
        "                                     unk_token=\"<unk>\",\n",
        "                                     mask_token=\"<mask>\")\n",
        "\n",
        "\n",
        "# Load the model\n",
        "model = AutoModelForCausalLM.from_pretrained(model_path)\n",
        "\n",
        "\n",
        "# Create the pipeline\n",
        "generator = pipeline(\"text-generation\", model=model, tokenizer=tokenizer)\n",
        "\n",
        "# Generate text\n",
        "print(generator(\"The future of hospitality AI is\", max_length=50, num_return_sequences=1))"
      ],
      "metadata": {
        "colab": {
          "base_uri": "https://localhost:8080/"
        },
        "id": "x-TVcfSruDgp",
        "outputId": "13d9c6d8-4c4d-4810-a791-3e2674c3e95a"
      },
      "execution_count": 17,
      "outputs": [
        {
          "output_type": "stream",
          "name": "stderr",
          "text": [
            "Device set to use cuda:0\n",
            "Truncation was not explicitly activated but `max_length` is provided a specific value, please use `truncation=True` to explicitly truncate examples to max length. Defaulting to 'longest_first' truncation strategy. If you encode pairs of sequences (GLUE-style) with the tokenizer you can select this strategy more precisely by providing a specific strategy to `truncation`.\n",
            "Both `max_new_tokens` (=256) and `max_length`(=50) seem to have been set. `max_new_tokens` will take precedence. Please refer to the documentation for more information. (https://huggingface.co/docs/transformers/main/en/main_classes/text_generation)\n"
          ]
        },
        {
          "output_type": "stream",
          "name": "stdout",
          "text": [
            "[{'generated_text': 'The future of hospitality AI is You can create a new digital and professional and elegant and unique design products. This product is designed for our latest design and innovative and design, and design and provides an online quality quality, durability and advanced quality of the style. The design of the design is based on an ideal way of a variety of style. With our unique collection of our range of quality and innovative, the product is a wide collection of professional design, we also offer an exceptional and unique range of products, offering some of our clients, our customers with our creative, and products. - The design and design of our products are'}]\n"
          ]
        }
      ]
    },
    {
      "cell_type": "code",
      "source": [
        "!ls -R ./slm_model"
      ],
      "metadata": {
        "colab": {
          "base_uri": "https://localhost:8080/"
        },
        "id": "yNE4MHiEuiCr",
        "outputId": "505b53cd-82b5-49cd-9f1c-2e24a8396932"
      },
      "execution_count": 18,
      "outputs": [
        {
          "output_type": "stream",
          "name": "stdout",
          "text": [
            "./slm_model:\n",
            "checkpoint-47000  checkpoint-47500  runs\n",
            "\n",
            "./slm_model/checkpoint-47000:\n",
            "config.json\t\trng_state.pth\t\t tokenizer.json\n",
            "generation_config.json\tscheduler.pt\t\t trainer_state.json\n",
            "model.safetensors\tspecial_tokens_map.json  training_args.bin\n",
            "optimizer.pt\t\ttokenizer_config.json\n",
            "\n",
            "./slm_model/checkpoint-47500:\n",
            "config.json\t\trng_state.pth\t\t tokenizer.json\n",
            "generation_config.json\tscheduler.pt\t\t trainer_state.json\n",
            "model.safetensors\tspecial_tokens_map.json  training_args.bin\n",
            "optimizer.pt\t\ttokenizer_config.json\n",
            "\n",
            "./slm_model/runs:\n",
            "Oct22_06-28-57_d4363890fad3  Oct22_06-42-31_d4363890fad3\n",
            "\n",
            "./slm_model/runs/Oct22_06-28-57_d4363890fad3:\n",
            "events.out.tfevents.1761114540.d4363890fad3.1010.0\n",
            "\n",
            "./slm_model/runs/Oct22_06-42-31_d4363890fad3:\n",
            "events.out.tfevents.1761115351.d4363890fad3.1010.1\n"
          ]
        }
      ]
    },
    {
      "cell_type": "code",
      "source": [
        "import math\n",
        "\n",
        "eval_results = trainer.evaluate()\n",
        "\n",
        "# Compute Perplexity\n",
        "perplexity = math.exp(eval_results[\"eval_loss\"])\n",
        "print(f\"\\n🔹 Evaluation Loss: {eval_results['eval_loss']:.4f}\")\n",
        "print(f\"🔹 Perplexity (PPL): {perplexity:.2f}\")"
      ],
      "metadata": {
        "colab": {
          "base_uri": "https://localhost:8080/",
          "height": 89
        },
        "id": "jqtPpnxHvcHh",
        "outputId": "8615b79e-7b98-48bb-9374-aa46373edb0e"
      },
      "execution_count": 20,
      "outputs": [
        {
          "output_type": "display_data",
          "data": {
            "text/plain": [
              "<IPython.core.display.HTML object>"
            ],
            "text/html": [
              "\n",
              "    <div>\n",
              "      \n",
              "      <progress value='2500' max='1250' style='width:300px; height:20px; vertical-align: middle;'></progress>\n",
              "      [1250/1250 01:04]\n",
              "    </div>\n",
              "    "
            ]
          },
          "metadata": {}
        },
        {
          "output_type": "stream",
          "name": "stdout",
          "text": [
            "\n",
            "🔹 Evaluation Loss: 5.3089\n",
            "🔹 Perplexity (PPL): 202.12\n"
          ]
        }
      ]
    },
    {
      "cell_type": "markdown",
      "source": [
        "Evaluation Loss — 5.3089\n",
        "\n",
        "This is the average cross-entropy loss across the validation set.\n",
        "It represents how well the model predicts the next token in a sequence.\n",
        "Lower loss = better model fit.\n",
        "\n",
        "Interpretation:\n",
        "A loss of around 5.3 means that on average, the model is somewhat uncertain when predicting the next word — it often assigns only a moderate probability to the correct next token.\n",
        "For a small language model (SLM) trained on 100K samples, this is quite reasonable.\n",
        "\n",
        "Context:\n",
        "In large-scale LLMs like GPT-2 or Phi-2, evaluation loss typically falls between 1.5–3.0 after training on billions of tokens.\n",
        "Since the model is trained on a much smaller dataset and for only 2 epochs, a loss in the 5–6 range indicates that learning has occurred but there’s still substantial room for improvement."
      ],
      "metadata": {
        "id": "GvkSYG7kwyui"
      }
    }
  ]
}